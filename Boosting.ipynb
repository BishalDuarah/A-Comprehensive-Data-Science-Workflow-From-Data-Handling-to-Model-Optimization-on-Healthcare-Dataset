{
 "cells": [
  {
   "cell_type": "code",
   "execution_count": 3,
   "id": "56821d91-5c9a-4a01-84a4-3ff9cf0a83e1",
   "metadata": {},
   "outputs": [],
   "source": [
    "import pandas as pd\n",
    "from sklearn.model_selection import train_test_split\n",
    "from sklearn.preprocessing import StandardScaler\n",
    "from sklearn.metrics import accuracy_score, classification_report\n",
    "from xgboost import XGBClassifier\n",
    "from catboost import CatBoostClassifier"
   ]
  },
  {
   "cell_type": "code",
   "execution_count": 19,
   "id": "7056ae87-6c33-4683-92dc-f8a68bb38991",
   "metadata": {},
   "outputs": [],
   "source": [
    "df = pd.read_csv(\"Heart_Disease_Prediction.csv\")\n",
    "df.columns = df.columns.str.strip()\n",
    "X = df.drop('Heart Disease', axis=1)\n",
    "y = df['Heart Disease']"
   ]
  },
  {
   "cell_type": "code",
   "execution_count": 21,
   "id": "a923b0ab-5804-4136-afeb-32e673e7a34d",
   "metadata": {},
   "outputs": [],
   "source": [
    "y = y.replace({'Absence': 0, 'Presence': 1})"
   ]
  },
  {
   "cell_type": "code",
   "execution_count": 23,
   "id": "8b0e3b3d-dd55-4148-bc8d-8d5da2d709e9",
   "metadata": {},
   "outputs": [],
   "source": [
    "X = pd.get_dummies(X, drop_first=True)"
   ]
  },
  {
   "cell_type": "code",
   "execution_count": 25,
   "id": "67174df9-f2a4-4b6e-b715-c940998c3ffa",
   "metadata": {},
   "outputs": [],
   "source": [
    "scaler = StandardScaler()\n",
    "X_scaled = scaler.fit_transform(X)"
   ]
  },
  {
   "cell_type": "code",
   "execution_count": 27,
   "id": "5c6d9bc0-07bd-4ff7-9ce9-d488de5b629b",
   "metadata": {},
   "outputs": [],
   "source": [
    "X_train, X_test, y_train, y_test = train_test_split(X_scaled, y, test_size=0.2, random_state=42)"
   ]
  },
  {
   "cell_type": "code",
   "execution_count": 29,
   "id": "a35ed195-541f-4ef9-8730-4b61629df853",
   "metadata": {},
   "outputs": [],
   "source": [
    "xgb = XGBClassifier(use_label_encoder=False, eval_metric='logloss')\n",
    "cat = CatBoostClassifier(verbose=0)\n"
   ]
  },
  {
   "cell_type": "code",
   "execution_count": 31,
   "id": "55d74dcc-50ec-485c-a42f-351dea7a4c96",
   "metadata": {},
   "outputs": [
    {
     "name": "stderr",
     "output_type": "stream",
     "text": [
      "C:\\Users\\91910\\anaconda3\\Lib\\site-packages\\xgboost\\training.py:183: UserWarning: [13:01:55] WARNING: C:\\actions-runner\\_work\\xgboost\\xgboost\\src\\learner.cc:738: \n",
      "Parameters: { \"use_label_encoder\" } are not used.\n",
      "\n",
      "  bst.update(dtrain, iteration=i, fobj=obj)\n"
     ]
    }
   ],
   "source": [
    "xgb.fit(X_train, y_train)\n",
    "xgb_pred = xgb.predict(X_test)"
   ]
  },
  {
   "cell_type": "code",
   "execution_count": 36,
   "id": "33e6685d-c477-46df-a217-d397048f9e33",
   "metadata": {},
   "outputs": [],
   "source": [
    "cat.fit(X_train, y_train)\n",
    "cat_pred = cat.predict(X_test)"
   ]
  },
  {
   "cell_type": "code",
   "execution_count": 40,
   "id": "9f51ee8b-749b-4aa4-a53d-fe7f49a05a14",
   "metadata": {},
   "outputs": [
    {
     "name": "stdout",
     "output_type": "stream",
     "text": [
      " XGBoost Performance:\n",
      "Accuracy: 0.8148148148148148\n",
      "              precision    recall  f1-score   support\n",
      "\n",
      "           0       0.83      0.88      0.85        33\n",
      "           1       0.79      0.71      0.75        21\n",
      "\n",
      "    accuracy                           0.81        54\n",
      "   macro avg       0.81      0.80      0.80        54\n",
      "weighted avg       0.81      0.81      0.81        54\n",
      "\n",
      "\n"
     ]
    }
   ],
   "source": [
    "print(\" XGBoost Performance:\")\n",
    "print(\"Accuracy:\", accuracy_score(y_test, xgb_pred))\n",
    "print(classification_report(y_test, xgb_pred))\n",
    "print()"
   ]
  },
  {
   "cell_type": "code",
   "execution_count": 42,
   "id": "67d5aadf-9215-448a-81e3-2bf2e4a6d432",
   "metadata": {},
   "outputs": [
    {
     "name": "stdout",
     "output_type": "stream",
     "text": [
      "CatBoost Performance:\n",
      "Accuracy: 0.8888888888888888\n",
      "              precision    recall  f1-score   support\n",
      "\n",
      "           0       0.89      0.94      0.91        33\n",
      "           1       0.89      0.81      0.85        21\n",
      "\n",
      "    accuracy                           0.89        54\n",
      "   macro avg       0.89      0.87      0.88        54\n",
      "weighted avg       0.89      0.89      0.89        54\n",
      "\n"
     ]
    }
   ],
   "source": [
    "print(\"CatBoost Performance:\")\n",
    "print(\"Accuracy:\", accuracy_score(y_test, cat_pred))\n",
    "print(classification_report(y_test, cat_pred))"
   ]
  },
  {
   "cell_type": "code",
   "execution_count": null,
   "id": "f1cd86fa-3b0e-40f2-ab4c-a91f1d62fff8",
   "metadata": {},
   "outputs": [],
   "source": []
  }
 ],
 "metadata": {
  "kernelspec": {
   "display_name": "Python 3 (ipykernel)",
   "language": "python",
   "name": "python3"
  },
  "language_info": {
   "codemirror_mode": {
    "name": "ipython",
    "version": 3
   },
   "file_extension": ".py",
   "mimetype": "text/x-python",
   "name": "python",
   "nbconvert_exporter": "python",
   "pygments_lexer": "ipython3",
   "version": "3.13.5"
  }
 },
 "nbformat": 4,
 "nbformat_minor": 5
}

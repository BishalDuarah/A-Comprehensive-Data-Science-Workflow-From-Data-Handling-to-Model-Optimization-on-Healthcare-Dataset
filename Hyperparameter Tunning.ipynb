{
 "cells": [
  {
   "cell_type": "code",
   "execution_count": 1,
   "id": "e8ee1bdc-7c65-409e-a821-75531354da7e",
   "metadata": {},
   "outputs": [],
   "source": [
    "import pandas as pd\n",
    "from sklearn.model_selection import train_test_split\n",
    "from sklearn.preprocessing import StandardScaler"
   ]
  },
  {
   "cell_type": "code",
   "execution_count": 3,
   "id": "885986dd-55fc-4764-b9e8-dde955f11eed",
   "metadata": {},
   "outputs": [],
   "source": [
    "df = pd.read_csv(\"Heart_Disease_Prediction.csv\")\n",
    "df.columns = df.columns.str.strip() "
   ]
  },
  {
   "cell_type": "code",
   "execution_count": 9,
   "id": "123aafe6-23ce-4075-8bd3-d27ff5e05fe4",
   "metadata": {},
   "outputs": [],
   "source": [
    "X = df.drop('Heart Disease', axis=1)\n",
    "y = df['Heart Disease'].replace({'Absence': 0, 'Presence': 1})"
   ]
  },
  {
   "cell_type": "code",
   "execution_count": 11,
   "id": "ceef4976-7663-4939-8dc4-2f7ed4a2a388",
   "metadata": {},
   "outputs": [],
   "source": [
    "X = pd.get_dummies(X, drop_first=True)"
   ]
  },
  {
   "cell_type": "code",
   "execution_count": 13,
   "id": "7ba34fd5-61c3-447a-9c07-ec6efe08eb05",
   "metadata": {},
   "outputs": [],
   "source": [
    "scaler = StandardScaler()\n",
    "X_scaled = scaler.fit_transform(X)"
   ]
  },
  {
   "cell_type": "code",
   "execution_count": 17,
   "id": "4446241a-d0c3-4b4e-8d54-f2fd436b52aa",
   "metadata": {},
   "outputs": [],
   "source": [
    "X_train, X_test, y_train, y_test = train_test_split(X_scaled, y, test_size=0.2, random_state=42)"
   ]
  },
  {
   "cell_type": "code",
   "execution_count": 19,
   "id": "1a282f28-6a2f-43c1-b89e-352e5f3425b4",
   "metadata": {},
   "outputs": [],
   "source": [
    "from sklearn.model_selection import GridSearchCV\n",
    "from sklearn.linear_model import LogisticRegression\n",
    "from sklearn.svm import SVC\n",
    "from sklearn.naive_bayes import GaussianNB\n",
    "from sklearn.ensemble import RandomForestClassifier"
   ]
  },
  {
   "cell_type": "code",
   "execution_count": 21,
   "id": "bd88a0c2-a5ee-498c-a5e4-a1795e7ec8bb",
   "metadata": {},
   "outputs": [],
   "source": [
    "best_models = []"
   ]
  },
  {
   "cell_type": "code",
   "execution_count": 23,
   "id": "faeb5076-46bc-423b-9cbf-1bee76109fcb",
   "metadata": {},
   "outputs": [],
   "source": [
    "log_params = {'C': [0.01, 0.1, 1, 10, 100]}\n",
    "log_grid = GridSearchCV(LogisticRegression(), log_params, cv=5)\n",
    "log_grid.fit(X_train, y_train)\n",
    "best_models.append(('Logistic Regression', log_grid.best_score_, log_grid.best_params_))\n"
   ]
  },
  {
   "cell_type": "code",
   "execution_count": 25,
   "id": "82fab45e-fef0-4ba2-af77-7d6c44802ecb",
   "metadata": {},
   "outputs": [],
   "source": [
    "svm_params = {'C': [0.1, 1, 10], 'kernel': ['linear', 'rbf']}\n",
    "svm_grid = GridSearchCV(SVC(), svm_params, cv=5)\n",
    "svm_grid.fit(X_train, y_train)\n",
    "best_models.append(('SVM', svm_grid.best_score_, svm_grid.best_params_))"
   ]
  },
  {
   "cell_type": "code",
   "execution_count": 27,
   "id": "67560697-e0ed-4c9b-8cd8-f4334c7a240b",
   "metadata": {},
   "outputs": [],
   "source": [
    "nb_model = GaussianNB()\n",
    "nb_model.fit(X_train, y_train)\n",
    "nb_acc = nb_model.score(X_test, y_test)\n",
    "best_models.append(('Naive Bayes', nb_acc, 'Default'))"
   ]
  },
  {
   "cell_type": "code",
   "execution_count": 29,
   "id": "f1aeb0b5-12f7-4d64-99eb-599f77c16fb7",
   "metadata": {},
   "outputs": [],
   "source": [
    "rf_params = {\n",
    "    'n_estimators': [50, 100, 200],\n",
    "    'max_depth': [3, 5, 10],\n",
    "    'min_samples_split': [2, 5],\n",
    "}\n",
    "rf_grid = GridSearchCV(RandomForestClassifier(), rf_params, cv=5)\n",
    "rf_grid.fit(X_train, y_train)\n",
    "best_models.append(('Random Forest', rf_grid.best_score_, rf_grid.best_params_))"
   ]
  },
  {
   "cell_type": "code",
   "execution_count": 31,
   "id": "866fed13-3aff-45f5-8f82-d807b2e99411",
   "metadata": {},
   "outputs": [
    {
     "name": "stdout",
     "output_type": "stream",
     "text": [
      "                 Model  CV Accuracy  \\\n",
      "2          Naive Bayes     0.907407   \n",
      "3        Random Forest     0.838478   \n",
      "1                  SVM     0.829175   \n",
      "0  Logistic Regression     0.824419   \n",
      "\n",
      "                                         Best Params  \n",
      "2                                            Default  \n",
      "3  {'max_depth': 3, 'min_samples_split': 5, 'n_es...  \n",
      "1                          {'C': 1, 'kernel': 'rbf'}  \n",
      "0                                           {'C': 1}  \n"
     ]
    }
   ],
   "source": [
    "df_tuned = pd.DataFrame(best_models, columns=['Model', 'CV Accuracy', 'Best Params'])\n",
    "print(df_tuned.sort_values(by='CV Accuracy', ascending=False))"
   ]
  },
  {
   "cell_type": "code",
   "execution_count": null,
   "id": "7fd7ca76-8d7e-4e63-9a85-511b5360a15d",
   "metadata": {},
   "outputs": [],
   "source": []
  }
 ],
 "metadata": {
  "kernelspec": {
   "display_name": "Python 3 (ipykernel)",
   "language": "python",
   "name": "python3"
  },
  "language_info": {
   "codemirror_mode": {
    "name": "ipython",
    "version": 3
   },
   "file_extension": ".py",
   "mimetype": "text/x-python",
   "name": "python",
   "nbconvert_exporter": "python",
   "pygments_lexer": "ipython3",
   "version": "3.13.5"
  }
 },
 "nbformat": 4,
 "nbformat_minor": 5
}
